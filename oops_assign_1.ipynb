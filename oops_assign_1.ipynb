{
 "cells": [
  {
   "cell_type": "markdown",
   "id": "e5bd29d6-a829-4656-9734-e8f26dc73e41",
   "metadata": {},
   "source": [
    "Q1, Create a vehicle class with an init method having instance variables as name_of_vehicle, max_speed\n",
    "and average_of_vehicle."
   ]
  },
  {
   "cell_type": "markdown",
   "id": "ede2e198-f7a0-4a12-851c-9085de721076",
   "metadata": {},
   "source": [
    "class vehicle:\n",
    "    def __init__(self,name_of_vehicle, max_speed,average_of_vehicle):\n",
    "        self.name_of_vehicle=name_of_vehicle\n",
    "        self.max_speed=max_speed\n",
    "        self.average_of_vehicle=average_of_vehicle\n",
    "    def return_details(self):\n",
    "        pass"
   ]
  },
  {
   "cell_type": "code",
   "execution_count": 15,
   "id": "7514eb08-1047-421c-987e-e64860ffea38",
   "metadata": {},
   "outputs": [],
   "source": [
    "v = vehicle(\"mahindra\", 350, 180)"
   ]
  },
  {
   "cell_type": "code",
   "execution_count": 18,
   "id": "8d9ebcfc-8fb5-49c9-bc05-98ca82ddaa11",
   "metadata": {},
   "outputs": [
    {
     "data": {
      "text/plain": [
       "'mahindra'"
      ]
     },
     "execution_count": 18,
     "metadata": {},
     "output_type": "execute_result"
    }
   ],
   "source": [
    "v.name_of_vehicle"
   ]
  },
  {
   "cell_type": "code",
   "execution_count": 19,
   "id": "46f507f3-5398-464d-b477-01e43873c3a3",
   "metadata": {},
   "outputs": [
    {
     "data": {
      "text/plain": [
       "350"
      ]
     },
     "execution_count": 19,
     "metadata": {},
     "output_type": "execute_result"
    }
   ],
   "source": [
    "v.max_speed"
   ]
  },
  {
   "cell_type": "code",
   "execution_count": 22,
   "id": "60587a35-c31b-4718-bce0-4ad94b7ed94a",
   "metadata": {},
   "outputs": [
    {
     "data": {
      "text/plain": [
       "180"
      ]
     },
     "execution_count": 22,
     "metadata": {},
     "output_type": "execute_result"
    }
   ],
   "source": [
    "v.average_of_vehicle"
   ]
  },
  {
   "cell_type": "markdown",
   "id": "83e94dfc-d549-4f2a-84df-408d98aefae1",
   "metadata": {},
   "source": [
    "Q2. Create a child class car from the vehicle class created in Que 1, which will inherit the vehicle class.\n",
    "Create a method named seating_capacity which takes capacity as an argument and returns the name of\n",
    "the vehicle and its seating capacity."
   ]
  },
  {
   "cell_type": "code",
   "execution_count": 23,
   "id": "8b96d18a-a7d0-4786-874b-5b012b8520b3",
   "metadata": {},
   "outputs": [],
   "source": [
    "class car(vehicle):\n",
    "    def __init__(self, seating_capacity):\n",
    "        self.seating_capacity=seating_capacity\n",
    "    def return_details(self):\n",
    "        self.name_of_vehicle\n",
    "        self.seating_capacity\n",
    "        "
   ]
  },
  {
   "cell_type": "code",
   "execution_count": 24,
   "id": "01ecf04f-d3f8-40ca-b137-5d1f78f3aad7",
   "metadata": {},
   "outputs": [
    {
     "data": {
      "text/plain": [
       "'mahindra'"
      ]
     },
     "execution_count": 24,
     "metadata": {},
     "output_type": "execute_result"
    }
   ],
   "source": [
    "v.name_of_vehicle"
   ]
  },
  {
   "cell_type": "code",
   "execution_count": 25,
   "id": "76456e4b-3202-4c63-920f-09d548e00cd2",
   "metadata": {},
   "outputs": [],
   "source": [
    "c = car(6)"
   ]
  },
  {
   "cell_type": "code",
   "execution_count": 26,
   "id": "afe489bc-91e1-4c11-835b-c0cc791dabaf",
   "metadata": {},
   "outputs": [
    {
     "data": {
      "text/plain": [
       "6"
      ]
     },
     "execution_count": 26,
     "metadata": {},
     "output_type": "execute_result"
    }
   ],
   "source": [
    "c.seating_capacity"
   ]
  },
  {
   "cell_type": "markdown",
   "id": "4d0f7035-879e-4b40-a8da-d4dd9ed9bd6e",
   "metadata": {},
   "source": [
    "Q3. What is multiple inheritance? Write a python code to demonstrate multiple inheritance."
   ]
  },
  {
   "cell_type": "markdown",
   "id": "04799f8a-5ad9-47ef-b238-573bb4053f22",
   "metadata": {},
   "source": [
    "we can access the program in single class from multiple class is called multiple inheritance."
   ]
  },
  {
   "cell_type": "code",
   "execution_count": 27,
   "id": "607ce120-0ba9-46e6-a4c9-b1df07450d88",
   "metadata": {},
   "outputs": [],
   "source": [
    "class sahar:\n",
    "    def workholic(self):\n",
    "        return \"yes\"\n",
    "        "
   ]
  },
  {
   "cell_type": "code",
   "execution_count": 28,
   "id": "e0661ade-0be4-489f-a79d-ff489f1fa26b",
   "metadata": {},
   "outputs": [],
   "source": [
    "class gaon:\n",
    "    def sukun(self):\n",
    "        return \"yes\""
   ]
  },
  {
   "cell_type": "code",
   "execution_count": 29,
   "id": "0ae14f71-4b8e-4892-a30b-00d160d1db44",
   "metadata": {},
   "outputs": [],
   "source": [
    "class vns(sahar, gaon):\n",
    "    pass\n",
    "    "
   ]
  },
  {
   "cell_type": "code",
   "execution_count": 30,
   "id": "54b455b5-7902-4cc7-838a-ea3b65144dd0",
   "metadata": {},
   "outputs": [],
   "source": [
    "obj_vns = vns()"
   ]
  },
  {
   "cell_type": "code",
   "execution_count": 32,
   "id": "8c8f3dbf-a7ff-4e32-956a-2480fdef21cd",
   "metadata": {},
   "outputs": [
    {
     "data": {
      "text/plain": [
       "'yes'"
      ]
     },
     "execution_count": 32,
     "metadata": {},
     "output_type": "execute_result"
    }
   ],
   "source": [
    "obj_vns.workholic()"
   ]
  },
  {
   "cell_type": "code",
   "execution_count": 33,
   "id": "081edf6a-c444-4754-8fbb-0ab6d3ffe82b",
   "metadata": {},
   "outputs": [
    {
     "data": {
      "text/plain": [
       "'yes'"
      ]
     },
     "execution_count": 33,
     "metadata": {},
     "output_type": "execute_result"
    }
   ],
   "source": [
    "obj_vns.sukun()"
   ]
  },
  {
   "cell_type": "markdown",
   "id": "60c99ed9-8cf4-4394-aecd-47f5c78a112f",
   "metadata": {},
   "source": [
    "Q4. What are getter and setter in python? Create a class and create a getter and a setter method in this\n",
    "class."
   ]
  },
  {
   "cell_type": "markdown",
   "id": "8c58371e-5db9-458f-a56f-250c511e530b",
   "metadata": {},
   "source": [
    "In this we can give the any value and set this and by getter we can take the value which is set by user "
   ]
  },
  {
   "cell_type": "code",
   "execution_count": 40,
   "id": "fd9c089c-0cee-4a05-9e55-33ddf7bfbbae",
   "metadata": {},
   "outputs": [],
   "source": [
    "class test:\n",
    "    def __init__(self, age = 0):\n",
    "         self._age = age\n",
    "      \n",
    "    def get_age(self):\n",
    "        return self._age\n",
    "      \n",
    "    def set_age(self, x):\n",
    "        self._age = x"
   ]
  },
  {
   "cell_type": "code",
   "execution_count": 41,
   "id": "1a878252-c483-4f38-943a-083f5e50c555",
   "metadata": {},
   "outputs": [],
   "source": [
    "raj = test()"
   ]
  },
  {
   "cell_type": "code",
   "execution_count": 42,
   "id": "8812beac-031d-4066-8103-75c8e4d68847",
   "metadata": {},
   "outputs": [],
   "source": [
    "raj.set_age(21)"
   ]
  },
  {
   "cell_type": "code",
   "execution_count": 43,
   "id": "1a0491d6-bae0-49c4-a031-6312a263a606",
   "metadata": {},
   "outputs": [
    {
     "name": "stdout",
     "output_type": "stream",
     "text": [
      "21\n"
     ]
    }
   ],
   "source": [
    "print(raj.get_age())"
   ]
  },
  {
   "cell_type": "code",
   "execution_count": 44,
   "id": "b9a40316-b931-4faa-959d-574b5622d33a",
   "metadata": {},
   "outputs": [
    {
     "name": "stdout",
     "output_type": "stream",
     "text": [
      "21\n"
     ]
    }
   ],
   "source": [
    "print(raj._age)"
   ]
  },
  {
   "cell_type": "markdown",
   "id": "1a5031ed-644f-41c7-b902-e19ec4e76f15",
   "metadata": {},
   "source": [
    "Q5.What is method overriding in python? Write a python code to demonstrate method overriding."
   ]
  },
  {
   "cell_type": "markdown",
   "id": "93a2c2f8-04a1-439e-bc95-dd556a80d071",
   "metadata": {},
   "source": [
    "In this method we can override on first programme which is given by programmer or user and we can override by user, it means the first programme is change by the second programme which is given by the user this is called overriding method."
   ]
  },
  {
   "cell_type": "code",
   "execution_count": 46,
   "id": "b1a84f2f-f313-4cdf-9058-41abc15be4a0",
   "metadata": {},
   "outputs": [],
   "source": [
    "import abc\n",
    "class car:\n",
    "    @abc.abstractmethod\n",
    "    def mahindra_details(self):\n",
    "        pass\n",
    "    @abc.abstractmethod\n",
    "    def mahindra_speed(self):\n",
    "        pass\n",
    "    "
   ]
  },
  {
   "cell_type": "code",
   "execution_count": 47,
   "id": "97cc0e89-d041-44f3-92d4-b68f057614ca",
   "metadata": {},
   "outputs": [],
   "source": [
    "class mahindra_details(car):\n",
    "    def mahindra_details(self):\n",
    "        return \"this is a four wheeler car\"\n",
    "    def mahindra_speed(self):\n",
    "        return \"the speed of this car is 345\""
   ]
  },
  {
   "cell_type": "code",
   "execution_count": 48,
   "id": "4461f4c7-e290-4401-82ac-313ded3a4ec2",
   "metadata": {},
   "outputs": [],
   "source": [
    "md = mahindra_details()"
   ]
  },
  {
   "cell_type": "code",
   "execution_count": 49,
   "id": "2764d9b5-fb8e-4f88-b1f0-64f659ee520a",
   "metadata": {},
   "outputs": [
    {
     "data": {
      "text/plain": [
       "'this is a four wheeler car'"
      ]
     },
     "execution_count": 49,
     "metadata": {},
     "output_type": "execute_result"
    }
   ],
   "source": [
    "md.mahindra_details()"
   ]
  },
  {
   "cell_type": "code",
   "execution_count": null,
   "id": "35490626-47ea-413f-969d-27423e36fda4",
   "metadata": {},
   "outputs": [],
   "source": []
  }
 ],
 "metadata": {
  "kernelspec": {
   "display_name": "Python 3 (ipykernel)",
   "language": "python",
   "name": "python3"
  },
  "language_info": {
   "codemirror_mode": {
    "name": "ipython",
    "version": 3
   },
   "file_extension": ".py",
   "mimetype": "text/x-python",
   "name": "python",
   "nbconvert_exporter": "python",
   "pygments_lexer": "ipython3",
   "version": "3.10.8"
  }
 },
 "nbformat": 4,
 "nbformat_minor": 5
}
